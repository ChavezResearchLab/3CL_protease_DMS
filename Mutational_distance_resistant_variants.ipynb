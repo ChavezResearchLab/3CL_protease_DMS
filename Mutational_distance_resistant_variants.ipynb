{
 "cells": [
  {
   "cell_type": "code",
   "execution_count": 1,
   "id": "bound-consolidation",
   "metadata": {},
   "outputs": [],
   "source": [
    "import glob\n",
    "import gzip\n",
    "import itertools\n",
    "import matplotlib.pyplot as plt\n",
    "import numpy as np\n",
    "import pandas as pd\n",
    "import os\n",
    "from scipy import stats\n",
    "import sys\n",
    "import re\n",
    "\n",
    "from Bio.Seq import Seq\n",
    "from collections import Counter\n",
    "import plotly.express as px\n",
    "import plotly.graph_objects as go\n",
    "from plotly.subplots import make_subplots\n",
    "import plotly.offline as offline\n",
    "import seaborn as sns\n",
    "\n",
    "import matrix_transform\n",
    "import visualize\n",
    "\n",
    "%matplotlib inline\n",
    "sns.set(font=\"Arial\")\n",
    "sns.set_theme(style=\"ticks\")\n",
    "\n",
    "colors = ['#D81B60', '#1E88E5', '#FFC107', '#31B547']\n",
    "sns.set_palette(sns.color_palette(colors))"
   ]
  },
  {
   "cell_type": "code",
   "execution_count": 3,
   "id": "fifth-chicken",
   "metadata": {},
   "outputs": [],
   "source": [
    "DNA = ('atgagtggttttagaaaaatggcattcccatctggtaaagttgagggttg'\n",
    "       'tatggtacaagtaacttgtggtacaactacacttaacggtctttggcttg'\n",
    "       'atgacgtagtttactgtccaagacatgtgatctgcacctctgaagacatg'\n",
    "       'cttaaccctaattatgaagatttactcattcgtaagtctaatcataattt'\n",
    "       'cttggtacaggctggtaatgttcaactcagggttattggacattctatgc'\n",
    "       'aaaattgtgtacttaagcttaaggttgatacagccaatcctaagacacct'\n",
    "       'aagtataagtttgttcgcattcaaccaggacagactttttcagtgttagc'\n",
    "       'ttgttacaatggttcaccatctggtgtttaccaatgtgctatgaggccca'\n",
    "       'atttcactattaagggttcattccttaatggttcatgtggtagtgttggt'\n",
    "       'tttaacatagattatgactgtgtctctttttgttacatgcaccatatgga'\n",
    "       'attaccaactggagttcatgctggcacagacttagaaggtaacttttatg'\n",
    "       'gaccttttgttgacaggcaaacagcacaagcagctggtacggacacaact'\n",
    "       'attacagttaatgttttagcttggttgtacgctgctgttataaatggaga'\n",
    "       'caggtggtttctcaatcgatttaccacaactcttaatgactttaaccttg'\n",
    "       'tggctatgaagtacaattatgaacctctaacacaagaccatgttgacata'\n",
    "       'ctaggacctctttctgctcaaactggaattgccgttttagatatgtgtgc'\n",
    "       'ttcattaaaagaattactgcaaaatggtatgaatggacgtaccatattgg'\n",
    "       'gtagtgctttattagaagatgaatttacaccttttgatgttgttagacaa'\n",
    "       'tgctcaggtgttactttccaa')\n",
    "wt_full = ('MSGFRKMAFPSGKVEGCMVQVTCGTTTLNGLWLDDVVYCPRHVICT'\n",
    "           'SEDMLNPNYEDLLIRKSNHNFLVQAGNVQLRVIGHSMQNCVLKLKV'\n",
    "           'DTANPKTPKYKFVRIQPGQTFSVLACYNGSPSGVYQCAMRPNFTIK'\n",
    "           'GSFLNGSCGSVGFNIDYDCVSFCYMHHMELPTGVHAGTDLEGNFYG'\n",
    "           'PFVDRQTAQAAGTDTTITVNVLAWLYAAVINGDRWFLNRFTTTLND'\n",
    "           'FNLVAMKYNYEPLTQDHVDILGPLSAQTGIAVLDMCASLKELLQNG'\n",
    "           'MNGRTILGSALLEDEFTPFDVVRQCSGVTFQ')\n",
    "wt_full = [x for x in wt_full]\n",
    "DNA_dict = {\n",
    "        'F':['ttt', 'ttc'],\n",
    "        'L':['tta', 'ttg', 'ctt', 'ctc', 'cta', 'ctg'],\n",
    "        'I':['att', 'atc', 'ata'],\n",
    "        'M':['atg'],\n",
    "        'V':['gtt', 'gtc', 'gta', 'gtg'],\n",
    "        'S':['tct', 'tcc', 'tca', 'tcg', 'agt', 'agc'],\n",
    "        'P':['cct', 'ccc', 'cca', 'ccg'],\n",
    "        'T':['act', 'acc', 'aca', 'acg'],\n",
    "        'A':['gct', 'gcc', 'gca', 'gcg'],\n",
    "        'Y':['tat', 'tac'],\n",
    "        '*':['taa', 'tag', 'tga'],\n",
    "        'H':['cat', 'cac'],\n",
    "        'Q':['caa', 'cag'],\n",
    "        'N':['aat', 'aac'],\n",
    "        'K':['aaa', 'aag'],\n",
    "        'D':['gat', 'gac'],\n",
    "        'E':['gaa', 'gag'],\n",
    "        'C':['tgt', 'tgc'],\n",
    "        'W':['tgg'],\n",
    "        'R':['cgt', 'cgc', 'cga', 'cgg', 'aga', 'agg'],\n",
    "        'G':['ggt', 'ggc', 'gga', 'ggg']\n",
    "            }\n",
    "\n",
    "gc_variant = pd.read_csv('CSVs/gc_resistance_stats.csv', index_col = 0)\n",
    "grl_variant = pd.read_csv('CSVs/grl_resistance_stats.csv', index_col = 0)"
   ]
  },
  {
   "cell_type": "code",
   "execution_count": 4,
   "id": "greek-approval",
   "metadata": {},
   "outputs": [],
   "source": [
    "def hamming(a, b):\n",
    "    return sum(c1 != c2 for c1, c2 in zip(a, b))"
   ]
  },
  {
   "cell_type": "markdown",
   "id": "confidential-communication",
   "metadata": {},
   "source": [
    "### GC_variant"
   ]
  },
  {
   "cell_type": "code",
   "execution_count": 31,
   "id": "cooperative-animation",
   "metadata": {},
   "outputs": [],
   "source": [
    "gc_resistant = gc_variant[(gc_variant['hit']==True)&\\\n",
    "           (gc_variant['standardize_gal']<gc_variant['standardize_gc'])]"
   ]
  },
  {
   "cell_type": "code",
   "execution_count": 32,
   "id": "important-guitar",
   "metadata": {},
   "outputs": [],
   "source": [
    "ham_dist_gc = []\n",
    "for ind, row in gc_resistant.iterrows():\n",
    "    res, aa = row['residue'], row['middle']\n",
    "    wt_coding = DNA[res*3:(res+1)*3]\n",
    "    ham_dist_list = []\n",
    "    for coding in DNA_dict[aa]:\n",
    "        ham_dist = hamming(wt_coding,coding)\n",
    "        ham_dist_list.append(ham_dist)\n",
    "    ham_dist_gc.append(min(ham_dist_list))"
   ]
  },
  {
   "cell_type": "code",
   "execution_count": 33,
   "id": "attended-carol",
   "metadata": {},
   "outputs": [
    {
     "data": {
      "text/plain": [
       "(array([ 2.,  0.,  0.,  0.,  0.,  7.,  0.,  0.,  0., 17.]),\n",
       " array([0. , 0.2, 0.4, 0.6, 0.8, 1. , 1.2, 1.4, 1.6, 1.8, 2. ]),\n",
       " <BarContainer object of 10 artists>)"
      ]
     },
     "execution_count": 33,
     "metadata": {},
     "output_type": "execute_result"
    },
    {
     "data": {
      "image/png": "[encoded data removed]",
      "text/plain": [
       "<Figure size 432x288 with 1 Axes>"
      ]
     },
     "metadata": {},
     "output_type": "display_data"
    }
   ],
   "source": [
    "plt.hist(ham_dist_gc)"
   ]
  },
  {
   "cell_type": "markdown",
   "id": "willing-gilbert",
   "metadata": {},
   "source": [
    "### GRL variants"
   ]
  },
  {
   "cell_type": "code",
   "execution_count": 34,
   "id": "worst-kennedy",
   "metadata": {},
   "outputs": [],
   "source": [
    "grl_resistant = grl_variant[(grl_variant['hit']==True)&\\\n",
    "           (grl_variant['standardize_gal']<grl_variant['standardize_grl'])]"
   ]
  },
  {
   "cell_type": "code",
   "execution_count": 35,
   "id": "dental-melbourne",
   "metadata": {},
   "outputs": [],
   "source": [
    "ham_dist_grl = []\n",
    "for ind, row in grl_resistant.iterrows():\n",
    "    res, aa = row['residue'], row['middle']\n",
    "    wt_coding = DNA[res*3:(res+1)*3]\n",
    "    ham_dist_list = []\n",
    "    for coding in DNA_dict[aa]:\n",
    "        ham_dist = hamming(wt_coding,coding)\n",
    "        ham_dist_list.append(ham_dist)\n",
    "    ham_dist_grl.append(min(ham_dist_list))"
   ]
  },
  {
   "cell_type": "code",
   "execution_count": 36,
   "id": "worldwide-aging",
   "metadata": {},
   "outputs": [
    {
     "data": {
      "text/plain": [
       "(array([ 2.,  0.,  0., 29.,  0.,  0., 42.,  0.,  0.,  4.]),\n",
       " array([0. , 0.3, 0.6, 0.9, 1.2, 1.5, 1.8, 2.1, 2.4, 2.7, 3. ]),\n",
       " <BarContainer object of 10 artists>)"
      ]
     },
     "execution_count": 36,
     "metadata": {},
     "output_type": "execute_result"
    },
    {
     "data": {
      "image/png": "[encoded data removed]",
      "text/plain": [
       "<Figure size 432x288 with 1 Axes>"
      ]
     },
     "metadata": {},
     "output_type": "display_data"
    }
   ],
   "source": [
    "plt.hist(ham_dist_grl)"
   ]
  },
  {
   "cell_type": "code",
   "execution_count": 37,
   "id": "speaking-seller",
   "metadata": {},
   "outputs": [
    {
     "name": "stdout",
     "output_type": "stream",
     "text": [
      "Counter({2: 42, 1: 29, 3: 4, 0: 2}) Counter({2: 17, 1: 7, 0: 2})\n"
     ]
    }
   ],
   "source": [
    "print(Counter(ham_dist_grl), Counter(ham_dist_gc))"
   ]
  },
  {
   "cell_type": "code",
   "execution_count": 38,
   "id": "attractive-socket",
   "metadata": {},
   "outputs": [],
   "source": [
    "grl_copy = grl_resistant.copy() \n",
    "gc_copy = gc_resistant.copy()\n",
    "grl_copy['hamming'] = ham_dist_grl\n",
    "gc_copy['hamming'] = ham_dist_gc"
   ]
  },
  {
   "cell_type": "code",
   "execution_count": 39,
   "id": "overall-lewis",
   "metadata": {},
   "outputs": [
    {
     "data": {
      "text/html": [
       "<div>\n",
       "<style scoped>\n",
       "    .dataframe tbody tr th:only-of-type {\n",
       "        vertical-align: middle;\n",
       "    }\n",
       "\n",
       "    .dataframe tbody tr th {\n",
       "        vertical-align: top;\n",
       "    }\n",
       "\n",
       "    .dataframe thead th {\n",
       "        text-align: right;\n",
       "    }\n",
       "</style>\n",
       "<table border=\"1\" class=\"dataframe\">\n",
       "  <thead>\n",
       "    <tr style=\"text-align: right;\">\n",
       "      <th></th>\n",
       "      <th>set</th>\n",
       "      <th>residue</th>\n",
       "      <th>middle</th>\n",
       "      <th>standardize_gal</th>\n",
       "      <th>std_err_of_mean_gal</th>\n",
       "      <th>standardize_grl</th>\n",
       "      <th>std_err_of_mean_grl</th>\n",
       "      <th>raw_gal_error</th>\n",
       "      <th>raw_grl_error</th>\n",
       "      <th>len_grl</th>\n",
       "      <th>len_gal</th>\n",
       "      <th>transform_error_gal</th>\n",
       "      <th>transform_error_grl</th>\n",
       "      <th>amino_acid</th>\n",
       "      <th>stats</th>\n",
       "      <th>pval</th>\n",
       "      <th>tstat</th>\n",
       "      <th>corrected_p</th>\n",
       "      <th>hit</th>\n",
       "      <th>hamming</th>\n",
       "    </tr>\n",
       "  </thead>\n",
       "  <tbody>\n",
       "    <tr>\n",
       "      <th>410</th>\n",
       "      <td>3</td>\n",
       "      <td>35</td>\n",
       "      <td>V</td>\n",
       "      <td>0.059261</td>\n",
       "      <td>0.940928</td>\n",
       "      <td>0.786044</td>\n",
       "      <td>0.781841</td>\n",
       "      <td>1.533165</td>\n",
       "      <td>0.752050</td>\n",
       "      <td>11</td>\n",
       "      <td>11</td>\n",
       "      <td>0.185042</td>\n",
       "      <td>0.313455</td>\n",
       "      <td>V</td>\n",
       "      <td>Ttest_indResult(statistic=-6.6221984424727385,...</td>\n",
       "      <td>0.000002</td>\n",
       "      <td>-6.622198</td>\n",
       "      <td>0.008185</td>\n",
       "      <td>True</td>\n",
       "      <td>0</td>\n",
       "    </tr>\n",
       "    <tr>\n",
       "      <th>4655</th>\n",
       "      <td>R1</td>\n",
       "      <td>148</td>\n",
       "      <td>V</td>\n",
       "      <td>-0.247110</td>\n",
       "      <td>0.488502</td>\n",
       "      <td>1.238369</td>\n",
       "      <td>1.693737</td>\n",
       "      <td>0.722896</td>\n",
       "      <td>0.437627</td>\n",
       "      <td>15</td>\n",
       "      <td>14</td>\n",
       "      <td>0.180603</td>\n",
       "      <td>0.999300</td>\n",
       "      <td>V</td>\n",
       "      <td>Ttest_indResult(statistic=-5.472818579643341, ...</td>\n",
       "      <td>0.000009</td>\n",
       "      <td>-5.472819</td>\n",
       "      <td>0.036190</td>\n",
       "      <td>True</td>\n",
       "      <td>0</td>\n",
       "    </tr>\n",
       "  </tbody>\n",
       "</table>\n",
       "</div>"
      ],
      "text/plain": [
       "     set  residue middle  standardize_gal  std_err_of_mean_gal  \\\n",
       "410    3       35      V         0.059261             0.940928   \n",
       "4655  R1      148      V        -0.247110             0.488502   \n",
       "\n",
       "      standardize_grl  std_err_of_mean_grl  raw_gal_error  raw_grl_error  \\\n",
       "410          0.786044             0.781841       1.533165       0.752050   \n",
       "4655         1.238369             1.693737       0.722896       0.437627   \n",
       "\n",
       "      len_grl  len_gal  transform_error_gal  transform_error_grl amino_acid  \\\n",
       "410        11       11             0.185042             0.313455          V   \n",
       "4655       15       14             0.180603             0.999300          V   \n",
       "\n",
       "                                                  stats      pval     tstat  \\\n",
       "410   Ttest_indResult(statistic=-6.6221984424727385,...  0.000002 -6.622198   \n",
       "4655  Ttest_indResult(statistic=-5.472818579643341, ...  0.000009 -5.472819   \n",
       "\n",
       "      corrected_p   hit  hamming  \n",
       "410      0.008185  True        0  \n",
       "4655     0.036190  True        0  "
      ]
     },
     "execution_count": 39,
     "metadata": {},
     "output_type": "execute_result"
    }
   ],
   "source": [
    "grl_copy[grl_copy['hamming']==0]"
   ]
  },
  {
   "cell_type": "code",
   "execution_count": 40,
   "id": "productive-arena",
   "metadata": {},
   "outputs": [
    {
     "data": {
      "text/html": [
       "<div>\n",
       "<style scoped>\n",
       "    .dataframe tbody tr th:only-of-type {\n",
       "        vertical-align: middle;\n",
       "    }\n",
       "\n",
       "    .dataframe tbody tr th {\n",
       "        vertical-align: top;\n",
       "    }\n",
       "\n",
       "    .dataframe thead th {\n",
       "        text-align: right;\n",
       "    }\n",
       "</style>\n",
       "<table border=\"1\" class=\"dataframe\">\n",
       "  <thead>\n",
       "    <tr style=\"text-align: right;\">\n",
       "      <th></th>\n",
       "      <th>set</th>\n",
       "      <th>residue</th>\n",
       "      <th>middle</th>\n",
       "      <th>standardize_gal</th>\n",
       "      <th>std_gal</th>\n",
       "      <th>standardize_gc</th>\n",
       "      <th>std_gc</th>\n",
       "      <th>raw_gal_error</th>\n",
       "      <th>raw_gc_error</th>\n",
       "      <th>len_gc</th>\n",
       "      <th>len_gal</th>\n",
       "      <th>transform_error_gal</th>\n",
       "      <th>transform_error_gc</th>\n",
       "      <th>amino_acid</th>\n",
       "      <th>stats</th>\n",
       "      <th>pval</th>\n",
       "      <th>tstat</th>\n",
       "      <th>corrected_p</th>\n",
       "      <th>hit</th>\n",
       "      <th>hamming</th>\n",
       "    </tr>\n",
       "  </thead>\n",
       "  <tbody>\n",
       "    <tr>\n",
       "      <th>4633</th>\n",
       "      <td>R1</td>\n",
       "      <td>147</td>\n",
       "      <td>S</td>\n",
       "      <td>0.080091</td>\n",
       "      <td>0.536427</td>\n",
       "      <td>0.795431</td>\n",
       "      <td>0.743673</td>\n",
       "      <td>0.722896</td>\n",
       "      <td>0.404382</td>\n",
       "      <td>17</td>\n",
       "      <td>16</td>\n",
       "      <td>0.185513</td>\n",
       "      <td>0.446032</td>\n",
       "      <td>S</td>\n",
       "      <td>Ttest_indResult(statistic=-5.945094216264544, ...</td>\n",
       "      <td>1.434716e-06</td>\n",
       "      <td>-5.945094</td>\n",
       "      <td>0.006309</td>\n",
       "      <td>True</td>\n",
       "      <td>0</td>\n",
       "    </tr>\n",
       "    <tr>\n",
       "      <th>4648</th>\n",
       "      <td>R1</td>\n",
       "      <td>148</td>\n",
       "      <td>V</td>\n",
       "      <td>-0.247110</td>\n",
       "      <td>0.488502</td>\n",
       "      <td>0.751828</td>\n",
       "      <td>0.780938</td>\n",
       "      <td>0.722896</td>\n",
       "      <td>0.404382</td>\n",
       "      <td>15</td>\n",
       "      <td>14</td>\n",
       "      <td>0.180603</td>\n",
       "      <td>0.498631</td>\n",
       "      <td>V</td>\n",
       "      <td>Ttest_indResult(statistic=-7.06849336283228, p...</td>\n",
       "      <td>1.339190e-07</td>\n",
       "      <td>-7.068493</td>\n",
       "      <td>0.000593</td>\n",
       "      <td>True</td>\n",
       "      <td>0</td>\n",
       "    </tr>\n",
       "  </tbody>\n",
       "</table>\n",
       "</div>"
      ],
      "text/plain": [
       "     set  residue middle  standardize_gal   std_gal  standardize_gc    std_gc  \\\n",
       "4633  R1      147      S         0.080091  0.536427        0.795431  0.743673   \n",
       "4648  R1      148      V        -0.247110  0.488502        0.751828  0.780938   \n",
       "\n",
       "      raw_gal_error  raw_gc_error  len_gc  len_gal  transform_error_gal  \\\n",
       "4633       0.722896      0.404382      17       16             0.185513   \n",
       "4648       0.722896      0.404382      15       14             0.180603   \n",
       "\n",
       "      transform_error_gc amino_acid  \\\n",
       "4633            0.446032          S   \n",
       "4648            0.498631          V   \n",
       "\n",
       "                                                  stats          pval  \\\n",
       "4633  Ttest_indResult(statistic=-5.945094216264544, ...  1.434716e-06   \n",
       "4648  Ttest_indResult(statistic=-7.06849336283228, p...  1.339190e-07   \n",
       "\n",
       "         tstat  corrected_p   hit  hamming  \n",
       "4633 -5.945094     0.006309  True        0  \n",
       "4648 -7.068493     0.000593  True        0  "
      ]
     },
     "execution_count": 40,
     "metadata": {},
     "output_type": "execute_result"
    }
   ],
   "source": [
    "gc_copy[gc_copy['hamming']==0]"
   ]
  },
  {
   "cell_type": "code",
   "execution_count": 41,
   "id": "threaded-bunch",
   "metadata": {},
   "outputs": [
    {
     "data": {
      "text/html": [
       "<div>\n",
       "<style scoped>\n",
       "    .dataframe tbody tr th:only-of-type {\n",
       "        vertical-align: middle;\n",
       "    }\n",
       "\n",
       "    .dataframe tbody tr th {\n",
       "        vertical-align: top;\n",
       "    }\n",
       "\n",
       "    .dataframe thead th {\n",
       "        text-align: right;\n",
       "    }\n",
       "</style>\n",
       "<table border=\"1\" class=\"dataframe\">\n",
       "  <thead>\n",
       "    <tr style=\"text-align: right;\">\n",
       "      <th></th>\n",
       "      <th>set</th>\n",
       "      <th>residue</th>\n",
       "      <th>middle</th>\n",
       "      <th>standardize_gal</th>\n",
       "      <th>std_gal</th>\n",
       "      <th>standardize_gc</th>\n",
       "      <th>std_gc</th>\n",
       "      <th>raw_gal_error</th>\n",
       "      <th>raw_gc_error</th>\n",
       "      <th>len_gc</th>\n",
       "      <th>len_gal</th>\n",
       "      <th>transform_error_gal</th>\n",
       "      <th>transform_error_gc</th>\n",
       "      <th>amino_acid</th>\n",
       "      <th>stats</th>\n",
       "      <th>pval</th>\n",
       "      <th>tstat</th>\n",
       "      <th>corrected_p</th>\n",
       "      <th>hit</th>\n",
       "      <th>hamming</th>\n",
       "    </tr>\n",
       "  </thead>\n",
       "  <tbody>\n",
       "    <tr>\n",
       "      <th>3986</th>\n",
       "      <td>18</td>\n",
       "      <td>270</td>\n",
       "      <td>R</td>\n",
       "      <td>0.116485</td>\n",
       "      <td>0.442713</td>\n",
       "      <td>2.266147</td>\n",
       "      <td>0.773961</td>\n",
       "      <td>0.743803</td>\n",
       "      <td>0.282091</td>\n",
       "      <td>12</td>\n",
       "      <td>12</td>\n",
       "      <td>0.17182</td>\n",
       "      <td>0.792026</td>\n",
       "      <td>R</td>\n",
       "      <td>Ttest_indResult(statistic=-9.18830642111795, p...</td>\n",
       "      <td>5.503611e-09</td>\n",
       "      <td>-9.188306</td>\n",
       "      <td>0.000024</td>\n",
       "      <td>True</td>\n",
       "      <td>2</td>\n",
       "    </tr>\n",
       "  </tbody>\n",
       "</table>\n",
       "</div>"
      ],
      "text/plain": [
       "     set  residue middle  standardize_gal   std_gal  standardize_gc    std_gc  \\\n",
       "3986  18      270      R         0.116485  0.442713        2.266147  0.773961   \n",
       "\n",
       "      raw_gal_error  raw_gc_error  len_gc  len_gal  transform_error_gal  \\\n",
       "3986       0.743803      0.282091      12       12              0.17182   \n",
       "\n",
       "      transform_error_gc amino_acid  \\\n",
       "3986            0.792026          R   \n",
       "\n",
       "                                                  stats          pval  \\\n",
       "3986  Ttest_indResult(statistic=-9.18830642111795, p...  5.503611e-09   \n",
       "\n",
       "         tstat  corrected_p   hit  hamming  \n",
       "3986 -9.188306     0.000024  True        2  "
      ]
     },
     "execution_count": 41,
     "metadata": {},
     "output_type": "execute_result"
    }
   ],
   "source": [
    "gc_copy[gc_copy['residue']==270]"
   ]
  },
  {
   "cell_type": "code",
   "execution_count": null,
   "id": "personalized-desktop",
   "metadata": {},
   "outputs": [],
   "source": []
  }
 ],
 "metadata": {
  "kernelspec": {
   "display_name": "Python 3",
   "language": "python",
   "name": "python3"
  },
  "language_info": {
   "codemirror_mode": {
    "name": "ipython",
    "version": 3
   },
   "file_extension": ".py",
   "mimetype": "text/x-python",
   "name": "python",
   "nbconvert_exporter": "python",
   "pygments_lexer": "ipython3",
   "version": "3.6.10"
  }
 },
 "nbformat": 4,
 "nbformat_minor": 5
}
