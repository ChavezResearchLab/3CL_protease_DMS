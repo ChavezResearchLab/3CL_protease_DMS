{
 "cells": [
  {
   "cell_type": "code",
   "execution_count": 1,
   "id": "bound-consolidation",
   "metadata": {},
   "outputs": [],
   "source": [
    "import glob\n",
    "import gzip\n",
    "import itertools\n",
    "import matplotlib.pyplot as plt\n",
    "import numpy as np\n",
    "import pandas as pd\n",
    "import os\n",
    "from scipy import stats\n",
    "import sys\n",
    "import re\n",
    "\n",
    "from Bio.Seq import Seq\n",
    "from collections import Counter\n",
    "import plotly.express as px\n",
    "import plotly.graph_objects as go\n",
    "from plotly.subplots import make_subplots\n",
    "import plotly.offline as offline\n",
    "import seaborn as sns\n",
    "\n",
    "import matrix_transform\n",
    "import visualize\n",
    "\n",
    "%matplotlib inline\n",
    "sns.set(font=\"Arial\")\n",
    "sns.set_theme(style=\"ticks\")\n",
    "\n",
    "colors = ['#D81B60', '#1E88E5', '#FFC107', '#31B547']\n",
    "sns.set_palette(sns.color_palette(colors))"
   ]
  },
  {
   "cell_type": "code",
   "execution_count": null,
   "id": "fifth-chicken",
   "metadata": {},
   "outputs": [],
   "source": [
    "gc_vars = "
   ]
  }
 ],
 "metadata": {
  "kernelspec": {
   "display_name": "Python 3",
   "language": "python",
   "name": "python3"
  },
  "language_info": {
   "codemirror_mode": {
    "name": "ipython",
    "version": 3
   },
   "file_extension": ".py",
   "mimetype": "text/x-python",
   "name": "python",
   "nbconvert_exporter": "python",
   "pygments_lexer": "ipython3",
   "version": "3.6.10"
  }
 },
 "nbformat": 4,
 "nbformat_minor": 5
}
