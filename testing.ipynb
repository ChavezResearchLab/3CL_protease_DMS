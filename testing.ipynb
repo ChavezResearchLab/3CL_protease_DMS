{
 "cells": [
  {
   "cell_type": "code",
   "execution_count": 1,
   "metadata": {},
   "outputs": [],
   "source": [
    "import pandas as pd"
   ]
  },
  {
   "cell_type": "code",
   "execution_count": 15,
   "metadata": {},
   "outputs": [],
   "source": [
    "spreadsheet = \"sample_spreadsheet_021521.csv\"\n",
    "samples = pd.read_csv(spreadsheet, comment = '#')"
   ]
  },
  {
   "cell_type": "code",
   "execution_count": 55,
   "metadata": {},
   "outputs": [],
   "source": [
    "sets = set(list(samples['Set']))\n",
    "def sets_and_residues(spreadsheet):\n",
    "    '''\n",
    "    Define which residues to take from which sets, especially for repeated\n",
    "    residues.\n",
    "    '''\n",
    "    samples = pd.read_csv(spreadsheet, comment = '#')\n",
    "    set_ = []\n",
    "    res = []\n",
    "    for s in sets:\n",
    "        x = str(s)\n",
    "        if 'R' in str(s) and str(s)!= 'R1':\n",
    "            sites = list(samples[samples['Set'] == str(x)]['Sites'])[0]\n",
    "            sites = [str(x) for x in sites.split(',')] \n",
    "            for site in sites:\n",
    "                print(set_, res)\n",
    "                set_.append(x)\n",
    "                res.append(site)\n",
    "    for s in sets:\n",
    "        x = str(s)\n",
    "        if 'R' not in str(s) or str(s) == 'R1':\n",
    "            start = list(samples[samples['Set'] == x]['Start range'])[0]\n",
    "            end = list(samples[samples['Set'] == x]['End range'])[0]\n",
    "            for site in range(start, end):\n",
    "                if site not in res:\n",
    "                    set_.append(x)\n",
    "                    res.append(site)\n",
    "    return(list(zip(set_, res)))"
   ]
  },
  {
   "cell_type": "code",
   "execution_count": 57,
   "metadata": {},
   "outputs": [],
   "source": [
    "matrix = pd.DataFrame()"
   ]
  },
  {
   "cell_type": "code",
   "execution_count": null,
   "metadata": {},
   "outputs": [],
   "source": []
  }
 ],
 "metadata": {
  "kernelspec": {
   "display_name": "Python 3",
   "language": "python",
   "name": "python3"
  },
  "language_info": {
   "codemirror_mode": {
    "name": "ipython",
    "version": 3
   },
   "file_extension": ".py",
   "mimetype": "text/x-python",
   "name": "python",
   "nbconvert_exporter": "python",
   "pygments_lexer": "ipython3",
   "version": "3.7.3"
  }
 },
 "nbformat": 4,
 "nbformat_minor": 2
}
