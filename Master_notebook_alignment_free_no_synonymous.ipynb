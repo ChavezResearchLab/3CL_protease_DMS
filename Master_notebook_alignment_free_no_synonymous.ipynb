{
 "cells": [
  {
   "cell_type": "code",
   "execution_count": 1,
   "metadata": {},
   "outputs": [],
   "source": [
    "import sys\n",
    "import os\n",
    "import glob\n",
    "import numpy as np\n",
    "import pandas as pd\n",
    "import gzip\n",
    "import matplotlib.pyplot as plt\n",
    "import plotly\n",
    "from scipy import stats\n",
    "from scipy.optimize import curve_fit\n",
    "import itertools\n",
    "from collections import Counter\n",
    "from Bio.Seq import Seq\n",
    "import one_rep\n",
    "import one_rep_no_syn\n",
    "import function_bio_rep\n",
    "import plotly.express as px\n",
    "import plotly.graph_objects as go\n",
    "from sklearn.cluster import KMeans\n",
    "from sklearn import preprocessing"
   ]
  },
  {
   "cell_type": "code",
   "execution_count": 2,
   "metadata": {},
   "outputs": [],
   "source": [
    "def mutation_matrix(dfs):\n",
    "    '''\n",
    "    Takes the mutations from the amino_acids attribute\n",
    "    (given in a dataframe with respective errors) and turns\n",
    "    it into a panda dataframe (which can be turned into a matrix).\n",
    "    '''\n",
    "    aa_amalg = pd.DataFrame()\n",
    "    for ind, df in enumerate(dfs):\n",
    "        aa = [x[1] for x in df.index]\n",
    "        mean = list(df['mean'])\n",
    "        aa_df = pd.DataFrame({'Amino Acid': aa, 'Mean'+str(ind): mean})\n",
    "        aa_df = aa_df.set_index('Amino Acid')\n",
    "        aa_amalg = pd.concat([aa_amalg, aa_df], axis = 1, join = 'outer')\n",
    "    return(aa_amalg)\n",
    "\n",
    "def mutation_matrix_rep(dfs):\n",
    "    '''\n",
    "    Takes the mutations from the amino_acids attribute\n",
    "    (given in a dataframe with respective errors) and turns\n",
    "    it into a panda dataframe (which can be turned into a matrix).\n",
    "    '''\n",
    "    aa_amalg = pd.DataFrame()\n",
    "    for ind, df in enumerate(dfs):\n",
    "        aa = [x for x in df.index]\n",
    "        mean = list(df['ratio'])\n",
    "        aa_df = pd.DataFrame({'Amino Acid': aa, 'Mean'+str(ind): mean})\n",
    "        aa_df = aa_df.set_index('Amino Acid')\n",
    "        aa_amalg = pd.concat([aa_amalg, aa_df], axis = 1, join = 'outer')\n",
    "    return(aa_amalg)"
   ]
  },
  {
   "cell_type": "code",
   "execution_count": 3,
   "metadata": {},
   "outputs": [],
   "source": [
    "# import csv detailing the sets and conditions \n",
    "samples = pd.read_csv('sample_spreadsheet_final.csv')\n",
    "threshold = 1\n",
    "wt_3CL = Seq(function_bio_rep.mutations.seq_3CL).translate()\n",
    "amino_acid_list = ['*', 'A', 'C', 'D', 'E', 'F', 'G', 'H',\n",
    "                   'I', 'K', 'L', 'M', 'N', 'P', 'Q', 'R',\n",
    "                   'S', 'T', 'V', 'W', 'Y']\n",
    "amino_acid_list.reverse()\n",
    "sets = [1,2,3,4,5,6,7,8,9,10,11,12,13,14,15,16,17,18, \\\n",
    "       19,20,21,'R1', '8R', '13R1', '14R', '13R2', '16R',\\\n",
    "       '9R', '10R']# "
   ]
  },
  {
   "cell_type": "markdown",
   "metadata": {},
   "source": [
    "### Generate and save data for biological replicates"
   ]
  },
  {
   "cell_type": "code",
   "execution_count": 8,
   "metadata": {},
   "outputs": [
    {
     "name": "stdout",
     "output_type": "stream",
     "text": [
      "1\n",
      "[1, 2, 3, 4, 5, 6, 7, 8, 9, 10, 11, 12] [0, 1, 2, 3, 4, 5, 6, 7, 8, 9, 10, 11, 12] -2 1 TACAAAATG\n",
      "2\n",
      "[13, 14, 15, 16, 17, 18, 19, 20, 21, 22, 23, 24, 25, 26, 27] [12, 13, 14, 15, 16, 17, 18, 19, 20, 21, 22, 23, 24, 25, 26, 27] 9 1 CCATCT\n",
      "3\n",
      "[28, 29, 30, 31, 32, 33, 34, 35, 36, 37, 38, 39, 40, 41, 42] [27, 28, 29, 30, 31, 32, 33, 34, 35, 36, 37, 38, 39, 40, 41, 42] 24 1 ACAACT\n",
      "4\n",
      "[43, 44, 45, 46, 47, 48, 49, 50, 51, 52, 53, 54, 55, 56, 57] [42, 43, 44, 45, 46, 47, 48, 49, 50, 51, 52, 53, 54, 55, 56, 57] 38 1 TGTCCAAGA\n",
      "5\n",
      "[58, 59, 60, 61, 62, 63, 64, 65, 66, 67, 68, 69, 70] [57, 58, 59, 60, 61, 62, 63, 64, 65, 66, 67, 68, 69, 70] 54 1 TATGAAG\n",
      "6\n",
      "[71, 72, 73, 74, 75, 76, 77, 78, 79, 80, 81, 82, 83, 84, 85] [70, 71, 72, 73, 74, 75, 76, 77, 78, 79, 80, 81, 82, 83, 84, 85] 68 1 GTACAG\n",
      "7\n",
      "[86, 87, 88, 89, 90, 91, 92, 93, 94, 95, 96, 97, 98, 99] [85, 86, 87, 88, 89, 90, 91, 92, 93, 94, 95, 96, 97, 98, 99] 83 1 CAAAAT\n",
      "8\n",
      "[100, 101, 102, 103, 104, 105, 106, 107, 108, 109, 110, 111, 112, 113, 114, 115] [99, 100, 101, 102, 103, 104, 105, 106, 107, 108, 109, 110, 111, 112, 113, 114, 115] 97 1 AAGACA\n",
      "9\n",
      "[116, 117, 118, 119, 120, 121, 122, 123, 124, 125, 126, 127, 128, 129, 130] [115, 116, 117, 118, 119, 120, 121, 122, 123, 124, 125, 126, 127, 128, 129, 130] 113 1 TCAGTG\n",
      "10\n",
      "[131, 132, 133, 134, 135, 136, 137, 138, 139] [130, 131, 132, 133, 134, 135, 136, 137, 138, 139] 128 1 TGTGCT\n",
      "11\n",
      "[150, 151, 152, 153, 154, 155, 156, 157, 158, 159, 160, 161, 162, 163, 164] [149, 150, 151, 152, 153, 154, 155, 156, 157, 158, 159, 160, 161, 162, 163, 164] 147 1 AGTGTT\n",
      "12\n",
      "[165, 166, 167, 168, 169, 170, 171, 172, 173, 174, 175, 176, 177, 178, 179] [164, 165, 166, 167, 168, 169, 170, 171, 172, 173, 174, 175, 176, 177, 178, 179] 162 1 ATGCAC\n",
      "13\n",
      "[180, 181, 182, 183, 184, 185, 186, 187, 188, 189, 190, 191, 192, 193, 194, 195] [179, 180, 181, 182, 183, 184, 185, 186, 187, 188, 189, 190, 191, 192, 193, 194, 195] 177 1 TTAGAA\n",
      "14\n",
      "[196, 197, 198, 199, 200, 201, 202, 203, 204, 205, 206, 207, 208, 209, 210, 211] [195, 196, 197, 198, 199, 200, 201, 202, 203, 204, 205, 206, 207, 208, 209, 210, 211] 193 1 GCAGCT\n",
      "15\n",
      "[212, 213, 214, 215, 216, 217, 218, 219, 220, 221, 222, 223, 224, 225, 226, 227] [211, 212, 213, 214, 215, 216, 217, 218, 219, 220, 221, 222, 223, 224, 225, 226, 227] 209 1 TACGCT\n",
      "16\n",
      "[228, 229, 230, 231, 232, 233, 234, 235, 236, 237, 238, 239, 240, 241, 242] [227, 228, 229, 230, 231, 232, 233, 234, 235, 236, 237, 238, 239, 240, 241, 242] 225 1 ACAACT\n",
      "17\n",
      "[243, 244, 245, 246, 247, 248, 249, 250, 251, 252, 253, 254, 255, 256, 257] [242, 243, 244, 245, 246, 247, 248, 249, 250, 251, 252, 253, 254, 255, 256, 257] 240 1 GAACCT\n",
      "18\n",
      "[258, 259, 260, 261, 262, 263, 264, 265, 266, 267, 268, 269, 270, 271, 272] [257, 258, 259, 260, 261, 262, 263, 264, 265, 266, 267, 268, 269, 270, 271, 272] 255 1 GCTCAA\n",
      "19\n",
      "[273, 274, 275, 276, 277, 278, 279, 280, 281, 282, 283, 284, 285, 286, 287] [272, 273, 274, 275, 276, 277, 278, 279, 280, 281, 282, 283, 284, 285, 286, 287] 270 1 GAATTA\n",
      "20\n",
      "[288, 289, 290, 291, 292, 293, 294, 295, 296, 297, 298] [287, 288, 289, 290, 291, 292, 293, 294, 295, 296, 297, 298] 285 1 GCTTTA\n",
      "21\n",
      "[299, 300, 301, 302, 303, 304, 305, 306] [298, 299, 300, 301, 302, 303, 304, 305, 306] 296 1 GTTGTT\n",
      "R1\n",
      "[140, 141, 142, 143, 144, 145, 146, 147, 148, 149] [139, 140, 141, 142, 143, 144, 145, 146, 147, 148, 149] 137 1 AAGGGT\n",
      "8R\n",
      "[113, 114, 115] [112, 113, 114, 115] 110 1 CAGACT\n",
      "13R1\n",
      "[180, 181, 182, 183] [179, 180, 181, 182, 183] 177 1 TTAGAA\n",
      "14R\n",
      "[196, 197, 198, 199] [195, 196, 197, 198, 199] 193 1 GCAGCT\n",
      "13R2\n",
      "[187, 188, 189] [186, 187, 188, 189] 184 1 CCTTTT\n",
      "16R\n",
      "[233, 234, 235, 236] [232, 233, 234, 235, 236] 230 1 TTTAAC\n",
      "9R\n",
      "[121, 122, 123, 124] [120, 121, 122, 123, 124] 118 1 TACAAT\n",
      "10R\n",
      "[134, 135, 136, 137] [133, 134, 135, 136, 137] 131 1 AGGCCC\n"
     ]
    }
   ],
   "source": [
    "# For every set compute the single set foldchange between gal/glu\n",
    "thresh1 = 30\n",
    "thresh2 = 1\n",
    "for s in sets:\n",
    "    x = str(s)\n",
    "    print(str(x))\n",
    "    start = list(samples[samples['Set'] == x]['Start range'])[0]\n",
    "    end = list(samples[samples['Set'] == x]['End range'])[0]\n",
    "    first_files = list(samples[samples['Set'] == x]['Folder'] + \\\n",
    "        samples[samples['Set'] == x]['Glu'] + '_R1.fastq.gz')\n",
    "    last_files = list(samples[samples['Set'] == x]['Folder'] + \\\n",
    "        samples[samples['Set'] == x]['Gal'] + '_R1.fastq.gz')\n",
    "    sequence = list(samples[samples['Set'] == x]['Sequence'])[0]\n",
    "    position = list(samples[samples['Set'] == x]['Position'])[0]\n",
    "    sites = one_rep_no_syn.mutations(list(range(start, end)), list(range(start, end)))\n",
    "    print(sites.sites, sites.all_muts, position, threshold, sequence)\n",
    "    for z in [0, 1]:\n",
    "        count_mat = sites.count_matrix(first_files[z], \\\n",
    "                                         sequence, position, thresh1)\n",
    "#         y = mutation_matrix_rep(comp)\n",
    "#         if 'X' in y.index:\n",
    "#             y = y.drop(index = 'X')\n",
    "#         if not os.path.exists('single_replicates_nosyn'):\n",
    "#             os.makedirs('single_replicates_nosyn')\n",
    "#         y.to_csv('single_replicates_nosyn/set'+ str(x) + '_replicate' + str(z) + '_gal_glu' + '.csv')\n",
    "        if not os.path.exists('count_matrix_glu_gal_nosyn'):\n",
    "            os.makedirs('count_matrix_glu_gal_nosyn')\n",
    "        for ind, y in enumerate(count_mat):\n",
    "            y.to_csv('count_matrix_glu_gal_nosyn/set'+ str(x)+'_rep_'+str(z)+'residue'+str(start+ind)+'.csv')\n"
   ]
  },
  {
   "cell_type": "code",
   "execution_count": 6,
   "metadata": {},
   "outputs": [
    {
     "name": "stdout",
     "output_type": "stream",
     "text": [
      "1\n",
      "[1, 2, 3, 4, 5, 6, 7, 8, 9, 10, 11, 12] [0, 1, 2, 3, 4, 5, 6, 7, 8, 9, 10, 11, 12] -2 1 TACAAAATG\n"
     ]
    },
    {
     "ename": "TypeError",
     "evalue": "amino_acids() missing 1 required positional argument: 'thresh2'",
     "output_type": "error",
     "traceback": [
      "\u001b[0;31m---------------------------------------------------------------------------\u001b[0m",
      "\u001b[0;31mTypeError\u001b[0m                                 Traceback (most recent call last)",
      "\u001b[0;32m<ipython-input-6-aa2e5b076864>\u001b[0m in \u001b[0;36m<module>\u001b[0;34m\u001b[0m\n\u001b[1;32m     15\u001b[0m     \u001b[0mprint\u001b[0m\u001b[0;34m(\u001b[0m\u001b[0msites\u001b[0m\u001b[0;34m.\u001b[0m\u001b[0msites\u001b[0m\u001b[0;34m,\u001b[0m \u001b[0msites\u001b[0m\u001b[0;34m.\u001b[0m\u001b[0mall_muts\u001b[0m\u001b[0;34m,\u001b[0m \u001b[0mposition\u001b[0m\u001b[0;34m,\u001b[0m \u001b[0mthreshold\u001b[0m\u001b[0;34m,\u001b[0m \u001b[0msequence\u001b[0m\u001b[0;34m)\u001b[0m\u001b[0;34m\u001b[0m\u001b[0;34m\u001b[0m\u001b[0m\n\u001b[1;32m     16\u001b[0m     \u001b[0;32mfor\u001b[0m \u001b[0mz\u001b[0m \u001b[0;32min\u001b[0m \u001b[0;34m[\u001b[0m\u001b[0;36m0\u001b[0m\u001b[0;34m,\u001b[0m \u001b[0;36m1\u001b[0m\u001b[0;34m]\u001b[0m\u001b[0;34m:\u001b[0m\u001b[0;34m\u001b[0m\u001b[0;34m\u001b[0m\u001b[0m\n\u001b[0;32m---> 17\u001b[0;31m         comp = sites.amino_acids([first_files[z]], [last_files[z]], \\\n\u001b[0m\u001b[1;32m     18\u001b[0m                                          sequence, position, threshold)\n\u001b[1;32m     19\u001b[0m         \u001b[0my\u001b[0m \u001b[0;34m=\u001b[0m \u001b[0mmutation_matrix_rep\u001b[0m\u001b[0;34m(\u001b[0m\u001b[0mcomp\u001b[0m\u001b[0;34m)\u001b[0m\u001b[0;34m\u001b[0m\u001b[0;34m\u001b[0m\u001b[0m\n",
      "\u001b[0;31mTypeError\u001b[0m: amino_acids() missing 1 required positional argument: 'thresh2'"
     ]
    }
   ],
   "source": [
    "# For every set compute the single set foldchange between gc/gal\n",
    "\n",
    "for s in sets:\n",
    "    x = str(s)\n",
    "    print(str(x))\n",
    "    start = list(samples[samples['Set'] == x]['Start range'])[0]\n",
    "    end = list(samples[samples['Set'] == x]['End range'])[0]\n",
    "    first_files = list(samples[samples['Set'] == x]['Folder'] + \\\n",
    "        samples[samples['Set'] == x]['Gc'] + '_R1.fastq.gz')\n",
    "    last_files = list(samples[samples['Set'] == x]['Folder'] + \\\n",
    "        samples[samples['Set'] == x]['Gal'] + '_R1.fastq.gz')\n",
    "    sequence = list(samples[samples['Set'] == x]['Sequence'])[0]\n",
    "    position = list(samples[samples['Set'] == x]['Position'])[0]\n",
    "    sites = one_rep.mutations(list(range(start, end)), list(range(start, end)))\n",
    "    print(sites.sites, sites.all_muts, position, threshold, sequence)\n",
    "    for z in [0, 1]:\n",
    "        comp = sites.amino_acids([first_files[z]], [last_files[z]], \\\n",
    "                                         sequence, position, threshold)\n",
    "        y = mutation_matrix_rep(comp)\n",
    "        if 'X' in y.index:\n",
    "            y = y.drop(index = 'X')\n",
    "        if not os.path.exists('single_replicates_gc_012020'):\n",
    "            os.makedirs('single_replicates_gc_012020')\n",
    "        y.to_csv('single_replicates_gc_012020/set'+ str(x) + '_replicate' + str(z) + '_gc' + '.csv')"
   ]
  },
  {
   "cell_type": "code",
   "execution_count": 5,
   "metadata": {},
   "outputs": [
    {
     "name": "stdout",
     "output_type": "stream",
     "text": [
      "1\n",
      "[1, 2, 3, 4, 5, 6, 7, 8, 9, 10, 11, 12] [0, 1, 2, 3, 4, 5, 6, 7, 8, 9, 10, 11, 12] -2 1 TACAAAATG\n",
      "2\n",
      "[13, 14, 15, 16, 17, 18, 19, 20, 21, 22, 23, 24, 25, 26, 27] [12, 13, 14, 15, 16, 17, 18, 19, 20, 21, 22, 23, 24, 25, 26, 27] 9 1 CCATCT\n"
     ]
    },
    {
     "ename": "KeyboardInterrupt",
     "evalue": "",
     "output_type": "error",
     "traceback": [
      "\u001b[0;31m---------------------------------------------------------------------------\u001b[0m",
      "\u001b[0;31mKeyboardInterrupt\u001b[0m                         Traceback (most recent call last)",
      "\u001b[0;32m<ipython-input-5-ba172ab5b424>\u001b[0m in \u001b[0;36m<module>\u001b[0;34m\u001b[0m\n\u001b[1;32m     15\u001b[0m     \u001b[0mprint\u001b[0m\u001b[0;34m(\u001b[0m\u001b[0msites\u001b[0m\u001b[0;34m.\u001b[0m\u001b[0msites\u001b[0m\u001b[0;34m,\u001b[0m \u001b[0msites\u001b[0m\u001b[0;34m.\u001b[0m\u001b[0mall_muts\u001b[0m\u001b[0;34m,\u001b[0m \u001b[0mposition\u001b[0m\u001b[0;34m,\u001b[0m \u001b[0mthreshold\u001b[0m\u001b[0;34m,\u001b[0m \u001b[0msequence\u001b[0m\u001b[0;34m)\u001b[0m\u001b[0;34m\u001b[0m\u001b[0;34m\u001b[0m\u001b[0m\n\u001b[1;32m     16\u001b[0m     \u001b[0;32mfor\u001b[0m \u001b[0mz\u001b[0m \u001b[0;32min\u001b[0m \u001b[0;34m[\u001b[0m\u001b[0;36m0\u001b[0m\u001b[0;34m,\u001b[0m \u001b[0;36m1\u001b[0m\u001b[0;34m]\u001b[0m\u001b[0;34m:\u001b[0m\u001b[0;34m\u001b[0m\u001b[0;34m\u001b[0m\u001b[0m\n\u001b[0;32m---> 17\u001b[0;31m         comp = sites.amino_acids([first_files[z]], [last_files[z]], \\\n\u001b[0m\u001b[1;32m     18\u001b[0m                                          sequence, position, thresh1, thresh2)\n\u001b[1;32m     19\u001b[0m         \u001b[0my\u001b[0m \u001b[0;34m=\u001b[0m \u001b[0mmutation_matrix_rep\u001b[0m\u001b[0;34m(\u001b[0m\u001b[0mcomp\u001b[0m\u001b[0;34m)\u001b[0m\u001b[0;34m\u001b[0m\u001b[0;34m\u001b[0m\u001b[0m\n",
      "\u001b[0;32m~/Yeast/one_rep_no_syn.py\u001b[0m in \u001b[0;36mamino_acids\u001b[0;34m(self, cond1, cond2, sequence, position, thresh1, thresh2)\u001b[0m\n\u001b[1;32m    374\u001b[0m         '''\n\u001b[1;32m    375\u001b[0m \u001b[0;34m\u001b[0m\u001b[0m\n\u001b[0;32m--> 376\u001b[0;31m         seq_df = self.replicate(cond1, cond2, sequence, position, thresh1, \\\n\u001b[0m\u001b[1;32m    377\u001b[0m             thresh2)\n\u001b[1;32m    378\u001b[0m         \u001b[0mwt\u001b[0m \u001b[0;34m=\u001b[0m \u001b[0mself\u001b[0m\u001b[0;34m.\u001b[0m\u001b[0mwildtype\u001b[0m\u001b[0;34m(\u001b[0m\u001b[0;34m)\u001b[0m\u001b[0;34m\u001b[0m\u001b[0;34m\u001b[0m\u001b[0m\n",
      "\u001b[0;32m~/Yeast/one_rep_no_syn.py\u001b[0m in \u001b[0;36mreplicate\u001b[0;34m(self, cond1, cond2, sequence, position, thresh1, thresh2)\u001b[0m\n\u001b[1;32m    349\u001b[0m         \u001b[0mcoding\u001b[0m\u001b[0;34m.\u001b[0m\u001b[0;34m\u001b[0m\u001b[0;34m\u001b[0m\u001b[0m\n\u001b[1;32m    350\u001b[0m         '''\n\u001b[0;32m--> 351\u001b[0;31m         rep1 = self.comparison(cond1[0], cond2[0], sequence, position, thresh1,\\\n\u001b[0m\u001b[1;32m    352\u001b[0m             thresh2)\n\u001b[1;32m    353\u001b[0m         \u001b[0mall_residues\u001b[0m \u001b[0;34m=\u001b[0m \u001b[0;34m[\u001b[0m\u001b[0;34m]\u001b[0m\u001b[0;34m\u001b[0m\u001b[0;34m\u001b[0m\u001b[0m\n",
      "\u001b[0;32m~/Yeast/one_rep_no_syn.py\u001b[0m in \u001b[0;36mcomparison\u001b[0;34m(self, cond1, cond2, sequence, position, thresh1, thresh2)\u001b[0m\n\u001b[1;32m    320\u001b[0m         \u001b[0mLog2\u001b[0m\u001b[0;34m(\u001b[0m\u001b[0mmut_cond1\u001b[0m\u001b[0;34m/\u001b[0m\u001b[0mwt_cond1\u001b[0m\u001b[0;34m)\u001b[0m\u001b[0;34m-\u001b[0m\u001b[0mLog2\u001b[0m\u001b[0;34m(\u001b[0m\u001b[0mmut_cond2\u001b[0m\u001b[0;34m/\u001b[0m\u001b[0mwt_cond2\u001b[0m\u001b[0;34m)\u001b[0m\u001b[0;34m\u001b[0m\u001b[0;34m\u001b[0m\u001b[0m\n\u001b[1;32m    321\u001b[0m         '''\n\u001b[0;32m--> 322\u001b[0;31m         \u001b[0mcond1_dfs\u001b[0m \u001b[0;34m=\u001b[0m \u001b[0mself\u001b[0m\u001b[0;34m.\u001b[0m\u001b[0mcount_matrix\u001b[0m\u001b[0;34m(\u001b[0m\u001b[0mcond1\u001b[0m\u001b[0;34m,\u001b[0m \u001b[0msequence\u001b[0m\u001b[0;34m,\u001b[0m \u001b[0mposition\u001b[0m\u001b[0;34m,\u001b[0m \u001b[0mthresh1\u001b[0m\u001b[0;34m)\u001b[0m\u001b[0;34m\u001b[0m\u001b[0;34m\u001b[0m\u001b[0m\n\u001b[0m\u001b[1;32m    323\u001b[0m         \u001b[0;31m# dataframes summarizing each cond1 site\u001b[0m\u001b[0;34m\u001b[0m\u001b[0;34m\u001b[0m\u001b[0;34m\u001b[0m\u001b[0m\n\u001b[1;32m    324\u001b[0m         \u001b[0;31m# normalize dataframes\u001b[0m\u001b[0;34m\u001b[0m\u001b[0;34m\u001b[0m\u001b[0;34m\u001b[0m\u001b[0m\n",
      "\u001b[0;32m~/Yeast/one_rep_no_syn.py\u001b[0m in \u001b[0;36mcount_matrix\u001b[0;34m(self, file, sequence, seq_position, thresh)\u001b[0m\n\u001b[1;32m    260\u001b[0m         '''\n\u001b[1;32m    261\u001b[0m \u001b[0;34m\u001b[0m\u001b[0m\n\u001b[0;32m--> 262\u001b[0;31m         \u001b[0mcodon_df\u001b[0m\u001b[0;34m,\u001b[0m \u001b[0mwt_count\u001b[0m \u001b[0;34m=\u001b[0m \u001b[0mself\u001b[0m\u001b[0;34m.\u001b[0m\u001b[0msingle_mutation\u001b[0m\u001b[0;34m(\u001b[0m\u001b[0mfile\u001b[0m\u001b[0;34m,\u001b[0m \u001b[0msequence\u001b[0m\u001b[0;34m,\u001b[0m \u001b[0mseq_position\u001b[0m\u001b[0;34m)\u001b[0m\u001b[0;34m\u001b[0m\u001b[0;34m\u001b[0m\u001b[0m\n\u001b[0m\u001b[1;32m    263\u001b[0m \u001b[0;34m\u001b[0m\u001b[0m\n\u001b[1;32m    264\u001b[0m         \u001b[0mcount\u001b[0m \u001b[0;34m=\u001b[0m \u001b[0;34m[\u001b[0m\u001b[0;34m]\u001b[0m \u001b[0;31m# Count the occurences of each codon combo. List of\u001b[0m\u001b[0;34m\u001b[0m\u001b[0;34m\u001b[0m\u001b[0m\n",
      "\u001b[0;32m~/Yeast/one_rep_no_syn.py\u001b[0m in \u001b[0;36msingle_mutation\u001b[0;34m(self, file, sequence, seq_position)\u001b[0m\n\u001b[1;32m    174\u001b[0m         \u001b[0mcodon\u001b[0m \u001b[0mof\u001b[0m \u001b[0minterest\u001b[0m\u001b[0;34m-\u001b[0m\u001b[0;34m-\u001b[0m\u001b[0mincluding\u001b[0m \u001b[0mdetected\u001b[0m \u001b[0msynonyous\u001b[0m \u001b[0mmutations\u001b[0m\u001b[0;34m.\u001b[0m\u001b[0;34m\u001b[0m\u001b[0;34m\u001b[0m\u001b[0m\n\u001b[1;32m    175\u001b[0m         '''\n\u001b[0;32m--> 176\u001b[0;31m         \u001b[0mN_lst\u001b[0m \u001b[0;34m=\u001b[0m \u001b[0mself\u001b[0m\u001b[0;34m.\u001b[0m\u001b[0mread_file_set\u001b[0m\u001b[0;34m(\u001b[0m\u001b[0mfile\u001b[0m\u001b[0;34m,\u001b[0m \u001b[0msequence\u001b[0m\u001b[0;34m,\u001b[0m \u001b[0mseq_position\u001b[0m\u001b[0;34m)\u001b[0m\u001b[0;34m\u001b[0m\u001b[0;34m\u001b[0m\u001b[0m\n\u001b[0m\u001b[1;32m    177\u001b[0m         \u001b[0mtot\u001b[0m \u001b[0;34m=\u001b[0m \u001b[0mlen\u001b[0m\u001b[0;34m(\u001b[0m\u001b[0mN_lst\u001b[0m\u001b[0;34m)\u001b[0m\u001b[0;34m\u001b[0m\u001b[0;34m\u001b[0m\u001b[0m\n\u001b[1;32m    178\u001b[0m         \u001b[0;31m# N_join = np.asarray([''.join(x) for x in N_lst])\u001b[0m\u001b[0;34m\u001b[0m\u001b[0;34m\u001b[0m\u001b[0;34m\u001b[0m\u001b[0m\n",
      "\u001b[0;32m~/Yeast/one_rep_no_syn.py\u001b[0m in \u001b[0;36mread_file_set\u001b[0;34m(self, file, sequence, seq_position)\u001b[0m\n\u001b[1;32m     69\u001b[0m \u001b[0;34m\u001b[0m\u001b[0m\n\u001b[1;32m     70\u001b[0m         \u001b[0;32mwith\u001b[0m \u001b[0mgzip\u001b[0m\u001b[0;34m.\u001b[0m\u001b[0mopen\u001b[0m\u001b[0;34m(\u001b[0m\u001b[0mfile\u001b[0m\u001b[0;34m,\u001b[0m \u001b[0;34m'r'\u001b[0m\u001b[0;34m)\u001b[0m \u001b[0;32mas\u001b[0m \u001b[0mf\u001b[0m\u001b[0;34m:\u001b[0m\u001b[0;34m\u001b[0m\u001b[0;34m\u001b[0m\u001b[0m\n\u001b[0;32m---> 71\u001b[0;31m             \u001b[0;32mfor\u001b[0m \u001b[0mline\u001b[0m \u001b[0;32min\u001b[0m \u001b[0mitertools\u001b[0m\u001b[0;34m.\u001b[0m\u001b[0mislice\u001b[0m\u001b[0;34m(\u001b[0m\u001b[0mf\u001b[0m\u001b[0;34m,\u001b[0m \u001b[0;36m1\u001b[0m\u001b[0;34m,\u001b[0m \u001b[0;32mNone\u001b[0m\u001b[0;34m,\u001b[0m \u001b[0;36m4\u001b[0m\u001b[0;34m)\u001b[0m\u001b[0;34m:\u001b[0m\u001b[0;34m\u001b[0m\u001b[0;34m\u001b[0m\u001b[0m\n\u001b[0m\u001b[1;32m     72\u001b[0m                 \u001b[0mdna_codings\u001b[0m \u001b[0;34m=\u001b[0m \u001b[0;34m[\u001b[0m\u001b[0;34m]\u001b[0m\u001b[0;34m\u001b[0m\u001b[0;34m\u001b[0m\u001b[0m\n\u001b[1;32m     73\u001b[0m                 \u001b[0mline_dc\u001b[0m \u001b[0;34m=\u001b[0m \u001b[0mline\u001b[0m\u001b[0;34m.\u001b[0m\u001b[0mdecode\u001b[0m\u001b[0;34m(\u001b[0m\u001b[0;34m\"utf-8\"\u001b[0m\u001b[0;34m)\u001b[0m\u001b[0;34m\u001b[0m\u001b[0;34m\u001b[0m\u001b[0m\n",
      "\u001b[0;32m~/anaconda3/envs/tools/lib/python3.8/gzip.py\u001b[0m in \u001b[0;36mreadline\u001b[0;34m(self, size)\u001b[0m\n\u001b[1;32m    388\u001b[0m     \u001b[0;32mdef\u001b[0m \u001b[0mreadline\u001b[0m\u001b[0;34m(\u001b[0m\u001b[0mself\u001b[0m\u001b[0;34m,\u001b[0m \u001b[0msize\u001b[0m\u001b[0;34m=\u001b[0m\u001b[0;34m-\u001b[0m\u001b[0;36m1\u001b[0m\u001b[0;34m)\u001b[0m\u001b[0;34m:\u001b[0m\u001b[0;34m\u001b[0m\u001b[0;34m\u001b[0m\u001b[0m\n\u001b[1;32m    389\u001b[0m         \u001b[0mself\u001b[0m\u001b[0;34m.\u001b[0m\u001b[0m_check_not_closed\u001b[0m\u001b[0;34m(\u001b[0m\u001b[0;34m)\u001b[0m\u001b[0;34m\u001b[0m\u001b[0;34m\u001b[0m\u001b[0m\n\u001b[0;32m--> 390\u001b[0;31m         \u001b[0;32mreturn\u001b[0m \u001b[0mself\u001b[0m\u001b[0;34m.\u001b[0m\u001b[0m_buffer\u001b[0m\u001b[0;34m.\u001b[0m\u001b[0mreadline\u001b[0m\u001b[0;34m(\u001b[0m\u001b[0msize\u001b[0m\u001b[0;34m)\u001b[0m\u001b[0;34m\u001b[0m\u001b[0;34m\u001b[0m\u001b[0m\n\u001b[0m\u001b[1;32m    391\u001b[0m \u001b[0;34m\u001b[0m\u001b[0m\n\u001b[1;32m    392\u001b[0m \u001b[0;34m\u001b[0m\u001b[0m\n",
      "\u001b[0;32m~/anaconda3/envs/tools/lib/python3.8/_compression.py\u001b[0m in \u001b[0;36mreadinto\u001b[0;34m(self, b)\u001b[0m\n\u001b[1;32m     64\u001b[0m         \u001b[0;32mreturn\u001b[0m \u001b[0mself\u001b[0m\u001b[0;34m.\u001b[0m\u001b[0m_fp\u001b[0m\u001b[0;34m.\u001b[0m\u001b[0mseekable\u001b[0m\u001b[0;34m(\u001b[0m\u001b[0;34m)\u001b[0m\u001b[0;34m\u001b[0m\u001b[0;34m\u001b[0m\u001b[0m\n\u001b[1;32m     65\u001b[0m \u001b[0;34m\u001b[0m\u001b[0m\n\u001b[0;32m---> 66\u001b[0;31m     \u001b[0;32mdef\u001b[0m \u001b[0mreadinto\u001b[0m\u001b[0;34m(\u001b[0m\u001b[0mself\u001b[0m\u001b[0;34m,\u001b[0m \u001b[0mb\u001b[0m\u001b[0;34m)\u001b[0m\u001b[0;34m:\u001b[0m\u001b[0;34m\u001b[0m\u001b[0;34m\u001b[0m\u001b[0m\n\u001b[0m\u001b[1;32m     67\u001b[0m         \u001b[0;32mwith\u001b[0m \u001b[0mmemoryview\u001b[0m\u001b[0;34m(\u001b[0m\u001b[0mb\u001b[0m\u001b[0;34m)\u001b[0m \u001b[0;32mas\u001b[0m \u001b[0mview\u001b[0m\u001b[0;34m,\u001b[0m \u001b[0mview\u001b[0m\u001b[0;34m.\u001b[0m\u001b[0mcast\u001b[0m\u001b[0;34m(\u001b[0m\u001b[0;34m\"B\"\u001b[0m\u001b[0;34m)\u001b[0m \u001b[0;32mas\u001b[0m \u001b[0mbyte_view\u001b[0m\u001b[0;34m:\u001b[0m\u001b[0;34m\u001b[0m\u001b[0;34m\u001b[0m\u001b[0m\n\u001b[1;32m     68\u001b[0m             \u001b[0mdata\u001b[0m \u001b[0;34m=\u001b[0m \u001b[0mself\u001b[0m\u001b[0;34m.\u001b[0m\u001b[0mread\u001b[0m\u001b[0;34m(\u001b[0m\u001b[0mlen\u001b[0m\u001b[0;34m(\u001b[0m\u001b[0mbyte_view\u001b[0m\u001b[0;34m)\u001b[0m\u001b[0;34m)\u001b[0m\u001b[0;34m\u001b[0m\u001b[0;34m\u001b[0m\u001b[0m\n",
      "\u001b[0;31mKeyboardInterrupt\u001b[0m: "
     ]
    }
   ],
   "source": [
    "# For every set compute the single set foldchange between grl/gal\n",
    "\n",
    "for s in sets:\n",
    "    x = str(s)\n",
    "    print(str(x))\n",
    "    start = list(samples[samples['Set'] == x]['Start range'])[0]\n",
    "    end = list(samples[samples['Set'] == x]['End range'])[0]\n",
    "    first_files = list(samples[samples['Set'] == x]['Folder'] + \\\n",
    "        samples[samples['Set'] == x]['Grl'] + '_R1.fastq.gz')\n",
    "    last_files = list(samples[samples['Set'] == x]['Folder'] + \\\n",
    "        samples[samples['Set'] == x]['Gal'] + '_R1.fastq.gz')\n",
    "    sequence = list(samples[samples['Set'] == x]['Sequence'])[0]\n",
    "    position = list(samples[samples['Set'] == x]['Position'])[0]\n",
    "    sites = one_rep_no_syn.mutations(list(range(start, end)), list(range(start, end)))\n",
    "    print(sites.sites, sites.all_muts, position, threshold, sequence)\n",
    "    for z in [0, 1]:\n",
    "        comp = sites.amino_acids([first_files[z]], [last_files[z]], \\\n",
    "                                         sequence, position, thresh1, thresh2)\n",
    "        y = mutation_matrix_rep(comp)\n",
    "        if 'X' in y.index:\n",
    "            y = y.drop(index = 'X')\n",
    "        if not os.path.exists('single_replicates_grl_nosyn'):\n",
    "            os.makedirs('single_replicates_grl_nosyn')\n",
    "        y.to_csv('single_replicates_grl_nosyn/set'+ str(x) + '_replicate' + str(z) + '_grl' + '.csv')"
   ]
  },
  {
   "cell_type": "code",
   "execution_count": null,
   "metadata": {},
   "outputs": [],
   "source": []
  }
 ],
 "metadata": {
  "kernelspec": {
   "display_name": "Python 3",
   "language": "python",
   "name": "python3"
  },
  "language_info": {
   "codemirror_mode": {
    "name": "ipython",
    "version": 3
   },
   "file_extension": ".py",
   "mimetype": "text/x-python",
   "name": "python",
   "nbconvert_exporter": "python",
   "pygments_lexer": "ipython3",
   "version": "3.8.5"
  }
 },
 "nbformat": 4,
 "nbformat_minor": 4
}
